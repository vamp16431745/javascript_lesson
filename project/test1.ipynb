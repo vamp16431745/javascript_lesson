{
 "cells": [
  {
   "cell_type": "code",
   "execution_count": null,
   "metadata": {
    "vscode": {
     "languageId": "javascript"
    }
   },
   "outputs": [],
   "source": [
    "let req = new XMLHttpRequest()\n",
    "\n",
    "req.addEventListener(\"load\", function (event) {\n",
    "    console.log(typeof this.responseText)\n",
    "    console.log(this.responseText)\n",
    "})\n",
    "\n",
    "req.addEventListener(\"error\", function (event) {\n",
    "    console.log(\"發生錯誤\")\n",
    "})\n",
    "\n",
    "req.open('GET', 'codeSearch.json')\n",
    "req.send()"
   ]
  }
 ],
 "metadata": {
  "language_info": {
   "name": "csharp"
  },
  "orig_nbformat": 4
 },
 "nbformat": 4,
 "nbformat_minor": 2
}
