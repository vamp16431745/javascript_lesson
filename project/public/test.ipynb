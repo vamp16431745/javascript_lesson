{
 "cells": [
  {
   "cell_type": "code",
   "execution_count": 1,
   "metadata": {
    "dotnet_interactive": {
     "language": "javascript"
    },
    "polyglot_notebook": {
     "kernelName": "javascript"
    },
    "vscode": {
     "languageId": "polyglot-notebook"
    }
   },
   "outputs": [
    {
     "data": {
      "application/json": {}
     },
     "metadata": {},
     "output_type": "display_data"
    },
    {
     "data": {
      "application/json": {}
     },
     "metadata": {},
     "output_type": "display_data"
    }
   ],
   "source": [
    "const re = /ab+c/g\n",
    "const re1 =new RegExp(\"ab+c\")\n",
    "console.log(re)\n",
    "console.log(re1)"
   ]
  },
  {
   "cell_type": "code",
   "execution_count": 4,
   "metadata": {
    "dotnet_interactive": {
     "language": "javascript"
    },
    "polyglot_notebook": {
     "kernelName": "javascript"
    },
    "vscode": {
     "languageId": "polyglot-notebook"
    }
   },
   "outputs": [
    {
     "data": {
      "application/json": [
       "dbbbd",
       "bbb"
      ]
     },
     "metadata": {},
     "output_type": "display_data"
    }
   ],
   "source": [
    "const myReg = /d(b+)d/g\n",
    "const myArray = myReg.exec(\"cdbbbdbsbz\")\n",
    "console.log(myArray)"
   ]
  },
  {
   "cell_type": "code",
   "execution_count": 7,
   "metadata": {
    "dotnet_interactive": {
     "language": "javascript"
    },
    "polyglot_notebook": {
     "kernelName": "javascript"
    },
    "vscode": {
     "languageId": "polyglot-notebook"
    }
   },
   "outputs": [
    {
     "data": {
      "text/plain": [
       "true"
      ]
     },
     "metadata": {},
     "output_type": "display_data"
    }
   ],
   "source": [
    "const codePatternReg = /\\w\\w\\w-\\w\\w\\w-\\w\\w\\w/g  \n",
    "/*能輸入xxx-xxx-xxx的正規則表達式*/\n",
    "console.log(codePatternReg.test(\"33p-wer-456\"))"
   ]
  }
 ],
 "metadata": {
  "language_info": {
   "name": "csharp"
  },
  "orig_nbformat": 4
 },
 "nbformat": 4,
 "nbformat_minor": 2
}
