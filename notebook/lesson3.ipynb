{
 "cells": [
  {
   "cell_type": "code",
   "execution_count": 8,
   "metadata": {
    "dotnet_interactive": {
     "language": "javascript"
    },
    "polyglot_notebook": {
     "kernelName": "javascript"
    },
    "vscode": {
     "languageId": "polyglot-notebook"
    }
   },
   "outputs": [
    {
     "data": {
      "text/plain": [
       "9007199254740992"
      ]
     },
     "metadata": {},
     "output_type": "display_data"
    },
    {
     "data": {
      "text/plain": [
       "1"
      ]
     },
     "metadata": {},
     "output_type": "display_data"
    },
    {
     "data": {
      "text/plain": [
       "3"
      ]
     },
     "metadata": {},
     "output_type": "display_data"
    },
    {
     "data": {
      "text/plain": [
       "5"
      ]
     },
     "metadata": {},
     "output_type": "display_data"
    },
    {
     "data": {
      "text/plain": [
       "2.302585092994046"
      ]
     },
     "metadata": {},
     "output_type": "display_data"
    },
    {
     "data": {
      "text/plain": [
       "10"
      ]
     },
     "metadata": {},
     "output_type": "display_data"
    },
    {
     "data": {
      "text/plain": [
       "3.141592653589793"
      ]
     },
     "metadata": {},
     "output_type": "display_data"
    }
   ],
   "source": [
    "console.log(Math.pow(2,53))  //2的53次方\n",
    "console.log(Math.round(.6))  //四捨五入\n",
    "console.log(Math.floor(3.9))  //無條件進位\n",
    "console.log(Math.ceil(4.1)) //無條件捨去\n",
    "\n",
    "console.log(Math.log(10)) //  以e為底對10取log\n",
    "console.log(Math.pow(Math.E,2.302585092994046))  //以e(自然對數)為底的2.3....取log\n",
    "console.log(Math.PI)  // 圓周率\n",
    "\n",
    "\n"
   ]
  },
  {
   "cell_type": "code",
   "execution_count": 3,
   "metadata": {
    "dotnet_interactive": {
     "language": "javascript"
    },
    "polyglot_notebook": {
     "kernelName": "javascript"
    },
    "vscode": {
     "languageId": "polyglot-notebook"
    }
   },
   "outputs": [
    {
     "data": {
      "application/json": [
       1,
       3,
       5,
       7,
       9
      ]
     },
     "metadata": {},
     "output_type": "display_data"
    },
    {
     "data": {
      "text/plain": [
       "1"
      ]
     },
     "metadata": {},
     "output_type": "display_data"
    },
    {
     "data": {
      "application/json": [
       [
        1,
        2,
        3
       ],
       [
        4,
        5,
        6
       ],
       [
        7,
        8,
        9
       ]
      ]
     },
     "metadata": {},
     "output_type": "display_data"
    },
    {
     "data": {
      "application/json": [
       1,
       2,
       3
      ]
     },
     "metadata": {},
     "output_type": "display_data"
    },
    {
     "data": {
      "text/plain": [
       "3"
      ]
     },
     "metadata": {},
     "output_type": "display_data"
    }
   ],
   "source": [
    "//建立array\n",
    "let array1=[1,3,5,7,9]\n",
    "console.log(array1)\n",
    "console.log(array1[0])\n",
    "\n",
    "//建立2維array\n",
    "let array2=[[1,2,3],[4,5,6],[7,8,9]]\n",
    "console.log(array2)\n",
    "console.log(array2[0])\n",
    "console.log(array2[0][2])\n"
   ]
  },
  {
   "cell_type": "code",
   "execution_count": 4,
   "metadata": {
    "dotnet_interactive": {
     "language": "javascript"
    },
    "polyglot_notebook": {
     "kernelName": "javascript"
    },
    "vscode": {
     "languageId": "polyglot-notebook"
    }
   },
   "outputs": [
    {
     "data": {
      "text/plain": [
       "2.3"
      ]
     },
     "metadata": {},
     "output_type": "display_data"
    },
    {
     "data": {
      "text/plain": [
       "2.3"
      ]
     },
     "metadata": {},
     "output_type": "display_data"
    },
    {
     "data": {
      "text/plain": [
       "-1.2"
      ]
     },
     "metadata": {},
     "output_type": "display_data"
    },
    {
     "data": {
      "text/plain": [
       "-1.2"
      ]
     },
     "metadata": {},
     "output_type": "display_data"
    }
   ],
   "source": [
    "\n",
    "//物件\n",
    "\n",
    "let p = {x:2.3, y:-1.2}\n",
    "console.log(p['x'])\n",
    "console.log(p.x)\n",
    "console.log(p['y'])\n",
    "console.log(p.y)\n"
   ]
  },
  {
   "cell_type": "code",
   "execution_count": 9,
   "metadata": {
    "dotnet_interactive": {
     "language": "javascript"
    },
    "polyglot_notebook": {
     "kernelName": "javascript"
    },
    "vscode": {
     "languageId": "polyglot-notebook"
    }
   },
   "outputs": [
    {
     "data": {
      "text/plain": [
       "javascript"
      ]
     },
     "metadata": {},
     "output_type": "display_data"
    },
    {
     "data": {
      "text/plain": [
       "The Definite Guide"
      ]
     },
     "metadata": {},
     "output_type": "display_data"
    },
    {
     "data": {
      "text/plain": [
       "all audience"
      ]
     },
     "metadata": {},
     "output_type": "display_data"
    },
    {
     "data": {
      "application/json": {
       "firstname": "David",
       "username": "Flanagn"
      }
     },
     "metadata": {},
     "output_type": "display_data"
    },
    {
     "data": {
      "text/plain": [
       "David"
      ]
     },
     "metadata": {},
     "output_type": "display_data"
    },
    {
     "data": {
      "text/plain": [
       "Flanagn"
      ]
     },
     "metadata": {},
     "output_type": "display_data"
    }
   ],
   "source": [
    "// 符號建立object\n",
    "\n",
    "var book=\n",
    "{\n",
    "    'main title':\"javascript\",\n",
    "    \"sub-title\":\"The Definite Guide\",\n",
    "    for:\"all audience\",\n",
    "    author:{\n",
    "        firstname:\"David\",\n",
    "        username:\"Flanagn\"\n",
    "\n",
    "    }\n",
    "}\n",
    "console.log(book['main title'])\n",
    "console.log(book['sub-title'])\n",
    "console.log(book.for)\n",
    "console.log(book.author)\n",
    "console.log(book.author.firstname)\n",
    "console.log(book.author.username)\n",
    "\n",
    "//使用new建立物件\n",
    "var book =new Object()\n",
    "book['main title']=\"javascript\"\n",
    "book.author=new Object()\n",
    "book.author.firstname=\"David\"\n",
    "book.author.username=\"Flanagn\"\n",
    "\n",
    "\n",
    "\n"
   ]
  },
  {
   "cell_type": "code",
   "execution_count": null,
   "metadata": {
    "dotnet_interactive": {
     "language": "javascript"
    },
    "polyglot_notebook": {
     "kernelName": "javascript"
    },
    "vscode": {
     "languageId": "polyglot-notebook"
    }
   },
   "outputs": [],
   "source": []
  }
 ],
 "metadata": {
  "language_info": {
   "name": "csharp"
  },
  "orig_nbformat": 4
 },
 "nbformat": 4,
 "nbformat_minor": 2
}
